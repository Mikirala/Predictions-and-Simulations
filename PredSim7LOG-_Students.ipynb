{
 "cells": [
  {
   "cell_type": "markdown",
   "metadata": {},
   "source": [
    "Source:\n",
    "https://data.melbourne.vic.gov.au/Transport/Pedestrian-Counting-System-Monthly-counts-per-hour/b2ak-trbp"
   ]
  },
  {
   "cell_type": "code",
   "execution_count": 1,
   "metadata": {},
   "outputs": [],
   "source": [
    "import pandas as pd\n",
    "import seaborn as sns\n",
    "import numpy as np\n",
    "import sktime"
   ]
  },
  {
   "cell_type": "code",
   "execution_count": 2,
   "metadata": {},
   "outputs": [],
   "source": [
    "df = pd.read_csv(\"Pedestrians.csv\", thousands = \",\")\n",
    "df.index = df.Date_Time.astype('datetime64')\n",
    "df2 = df.drop_duplicates(subset = 'Date_Time', keep = False)"
   ]
  },
  {
   "cell_type": "code",
   "execution_count": 3,
   "metadata": {},
   "outputs": [],
   "source": [
    "del df2['Sensor_ID']\n",
    "del df2['Sensor_Name']\n",
    "del df2['ID']\n",
    "del df2['Date_Time']"
   ]
  },
  {
   "cell_type": "code",
   "execution_count": 4,
   "metadata": {},
   "outputs": [
    {
     "name": "stderr",
     "output_type": "stream",
     "text": [
      "c:\\Users\\mi.martowicz\\Anaconda3\\lib\\site-packages\\pandas\\core\\frame.py:5582: SettingWithCopyWarning: \n",
      "A value is trying to be set on a copy of a slice from a DataFrame\n",
      "\n",
      "See the caveats in the documentation: https://pandas.pydata.org/pandas-docs/stable/user_guide/indexing.html#returning-a-view-versus-a-copy\n",
      "  return super().sort_index(\n"
     ]
    }
   ],
   "source": [
    "df2.sort_index(inplace=True)"
   ]
  },
  {
   "cell_type": "code",
   "execution_count": 5,
   "metadata": {},
   "outputs": [
    {
     "data": {
      "text/plain": [
       "<AxesSubplot:xlabel='Date_Time', ylabel='Hourly_Counts'>"
      ]
     },
     "execution_count": 5,
     "metadata": {},
     "output_type": "execute_result"
    },
    {
     "data": {
      "image/png": "[encoded data removed]",
      "text/plain": [
       "<Figure size 432x288 with 1 Axes>"
      ]
     },
     "metadata": {
      "needs_background": "light"
     },
     "output_type": "display_data"
    }
   ],
   "source": [
    "sns.lineplot(x=df2.index, y='Hourly_Counts', data=df2)"
   ]
  },
  {
   "cell_type": "code",
   "execution_count": 6,
   "metadata": {},
   "outputs": [
    {
     "data": {
      "text/html": [
       "<div>\n",
       "<style scoped>\n",
       "    .dataframe tbody tr th:only-of-type {\n",
       "        vertical-align: middle;\n",
       "    }\n",
       "\n",
       "    .dataframe tbody tr th {\n",
       "        vertical-align: top;\n",
       "    }\n",
       "\n",
       "    .dataframe thead th {\n",
       "        text-align: right;\n",
       "    }\n",
       "</style>\n",
       "<table border=\"1\" class=\"dataframe\">\n",
       "  <thead>\n",
       "    <tr style=\"text-align: right;\">\n",
       "      <th></th>\n",
       "      <th>Year</th>\n",
       "      <th>Month</th>\n",
       "      <th>Mdate</th>\n",
       "      <th>Day</th>\n",
       "      <th>Time</th>\n",
       "      <th>Hourly_Counts</th>\n",
       "    </tr>\n",
       "    <tr>\n",
       "      <th>Date_Time</th>\n",
       "      <th></th>\n",
       "      <th></th>\n",
       "      <th></th>\n",
       "      <th></th>\n",
       "      <th></th>\n",
       "      <th></th>\n",
       "    </tr>\n",
       "  </thead>\n",
       "  <tbody>\n",
       "    <tr>\n",
       "      <th>2009-05-01 00:00:00</th>\n",
       "      <td>2009</td>\n",
       "      <td>May</td>\n",
       "      <td>1</td>\n",
       "      <td>Friday</td>\n",
       "      <td>0</td>\n",
       "      <td>52</td>\n",
       "    </tr>\n",
       "    <tr>\n",
       "      <th>2009-05-01 01:00:00</th>\n",
       "      <td>2009</td>\n",
       "      <td>May</td>\n",
       "      <td>1</td>\n",
       "      <td>Friday</td>\n",
       "      <td>1</td>\n",
       "      <td>34</td>\n",
       "    </tr>\n",
       "    <tr>\n",
       "      <th>2009-05-01 02:00:00</th>\n",
       "      <td>2009</td>\n",
       "      <td>May</td>\n",
       "      <td>1</td>\n",
       "      <td>Friday</td>\n",
       "      <td>2</td>\n",
       "      <td>19</td>\n",
       "    </tr>\n",
       "    <tr>\n",
       "      <th>2009-05-01 03:00:00</th>\n",
       "      <td>2009</td>\n",
       "      <td>May</td>\n",
       "      <td>1</td>\n",
       "      <td>Friday</td>\n",
       "      <td>3</td>\n",
       "      <td>14</td>\n",
       "    </tr>\n",
       "    <tr>\n",
       "      <th>2009-05-01 04:00:00</th>\n",
       "      <td>2009</td>\n",
       "      <td>May</td>\n",
       "      <td>1</td>\n",
       "      <td>Friday</td>\n",
       "      <td>4</td>\n",
       "      <td>15</td>\n",
       "    </tr>\n",
       "  </tbody>\n",
       "</table>\n",
       "</div>"
      ],
      "text/plain": [
       "                     Year Month  Mdate     Day  Time  Hourly_Counts\n",
       "Date_Time                                                          \n",
       "2009-05-01 00:00:00  2009   May      1  Friday     0             52\n",
       "2009-05-01 01:00:00  2009   May      1  Friday     1             34\n",
       "2009-05-01 02:00:00  2009   May      1  Friday     2             19\n",
       "2009-05-01 03:00:00  2009   May      1  Friday     3             14\n",
       "2009-05-01 04:00:00  2009   May      1  Friday     4             15"
      ]
     },
     "execution_count": 6,
     "metadata": {},
     "output_type": "execute_result"
    }
   ],
   "source": [
    "df2.head()"
   ]
  },
  {
   "cell_type": "code",
   "execution_count": 7,
   "metadata": {},
   "outputs": [
    {
     "data": {
      "text/html": [
       "<div>\n",
       "<style scoped>\n",
       "    .dataframe tbody tr th:only-of-type {\n",
       "        vertical-align: middle;\n",
       "    }\n",
       "\n",
       "    .dataframe tbody tr th {\n",
       "        vertical-align: top;\n",
       "    }\n",
       "\n",
       "    .dataframe thead th {\n",
       "        text-align: right;\n",
       "    }\n",
       "</style>\n",
       "<table border=\"1\" class=\"dataframe\">\n",
       "  <thead>\n",
       "    <tr style=\"text-align: right;\">\n",
       "      <th></th>\n",
       "      <th>Year</th>\n",
       "      <th>Month</th>\n",
       "      <th>Mdate</th>\n",
       "      <th>Day</th>\n",
       "      <th>Time</th>\n",
       "      <th>Hourly_Counts</th>\n",
       "    </tr>\n",
       "    <tr>\n",
       "      <th>Date_Time</th>\n",
       "      <th></th>\n",
       "      <th></th>\n",
       "      <th></th>\n",
       "      <th></th>\n",
       "      <th></th>\n",
       "      <th></th>\n",
       "    </tr>\n",
       "  </thead>\n",
       "  <tbody>\n",
       "    <tr>\n",
       "      <th>2022-04-30 19:00:00</th>\n",
       "      <td>2022</td>\n",
       "      <td>April</td>\n",
       "      <td>30</td>\n",
       "      <td>Saturday</td>\n",
       "      <td>19</td>\n",
       "      <td>489</td>\n",
       "    </tr>\n",
       "    <tr>\n",
       "      <th>2022-04-30 20:00:00</th>\n",
       "      <td>2022</td>\n",
       "      <td>April</td>\n",
       "      <td>30</td>\n",
       "      <td>Saturday</td>\n",
       "      <td>20</td>\n",
       "      <td>403</td>\n",
       "    </tr>\n",
       "    <tr>\n",
       "      <th>2022-04-30 21:00:00</th>\n",
       "      <td>2022</td>\n",
       "      <td>April</td>\n",
       "      <td>30</td>\n",
       "      <td>Saturday</td>\n",
       "      <td>21</td>\n",
       "      <td>310</td>\n",
       "    </tr>\n",
       "    <tr>\n",
       "      <th>2022-04-30 22:00:00</th>\n",
       "      <td>2022</td>\n",
       "      <td>April</td>\n",
       "      <td>30</td>\n",
       "      <td>Saturday</td>\n",
       "      <td>22</td>\n",
       "      <td>445</td>\n",
       "    </tr>\n",
       "    <tr>\n",
       "      <th>2022-04-30 23:00:00</th>\n",
       "      <td>2022</td>\n",
       "      <td>April</td>\n",
       "      <td>30</td>\n",
       "      <td>Saturday</td>\n",
       "      <td>23</td>\n",
       "      <td>244</td>\n",
       "    </tr>\n",
       "  </tbody>\n",
       "</table>\n",
       "</div>"
      ],
      "text/plain": [
       "                     Year  Month  Mdate       Day  Time  Hourly_Counts\n",
       "Date_Time                                                             \n",
       "2022-04-30 19:00:00  2022  April     30  Saturday    19            489\n",
       "2022-04-30 20:00:00  2022  April     30  Saturday    20            403\n",
       "2022-04-30 21:00:00  2022  April     30  Saturday    21            310\n",
       "2022-04-30 22:00:00  2022  April     30  Saturday    22            445\n",
       "2022-04-30 23:00:00  2022  April     30  Saturday    23            244"
      ]
     },
     "execution_count": 7,
     "metadata": {},
     "output_type": "execute_result"
    }
   ],
   "source": [
    "df2.tail()"
   ]
  },
  {
   "cell_type": "code",
   "execution_count": 8,
   "metadata": {},
   "outputs": [],
   "source": [
    "import statsmodels.formula.api as sm"
   ]
  },
  {
   "cell_type": "code",
   "execution_count": 9,
   "metadata": {},
   "outputs": [
    {
     "name": "stderr",
     "output_type": "stream",
     "text": [
      "<ipython-input-9-34a127a3adb5>:1: SettingWithCopyWarning: \n",
      "A value is trying to be set on a copy of a slice from a DataFrame.\n",
      "Try using .loc[row_indexer,col_indexer] = value instead\n",
      "\n",
      "See the caveats in the documentation: https://pandas.pydata.org/pandas-docs/stable/user_guide/indexing.html#returning-a-view-versus-a-copy\n",
      "  df2['Trend'] = range(1,len(df2)+1)\n"
     ]
    }
   ],
   "source": [
    "df2['Trend'] = range(1,len(df2)+1)"
   ]
  },
  {
   "cell_type": "code",
   "execution_count": 10,
   "metadata": {},
   "outputs": [
    {
     "name": "stderr",
     "output_type": "stream",
     "text": [
      "<ipython-input-10-4007c2a90712>:1: SettingWithCopyWarning: \n",
      "A value is trying to be set on a copy of a slice from a DataFrame.\n",
      "Try using .loc[row_indexer,col_indexer] = value instead\n",
      "\n",
      "See the caveats in the documentation: https://pandas.pydata.org/pandas-docs/stable/user_guide/indexing.html#returning-a-view-versus-a-copy\n",
      "  df2['LogPed'] = np.log(df2.Hourly_Counts+1)\n"
     ]
    }
   ],
   "source": [
    "df2['LogPed'] = np.log(df2.Hourly_Counts+1)"
   ]
  },
  {
   "cell_type": "code",
   "execution_count": 11,
   "metadata": {},
   "outputs": [],
   "source": [
    "df2_in = df2[df2.index < \"2020-01-01\"]"
   ]
  },
  {
   "cell_type": "code",
   "execution_count": 12,
   "metadata": {},
   "outputs": [
    {
     "data": {
      "text/html": [
       "<table class=\"simpletable\">\n",
       "<caption>OLS Regression Results</caption>\n",
       "<tr>\n",
       "  <th>Dep. Variable:</th>         <td>LogPed</td>      <th>  R-squared:         </th> <td>   0.902</td> \n",
       "</tr>\n",
       "<tr>\n",
       "  <th>Model:</th>                   <td>OLS</td>       <th>  Adj. R-squared:    </th> <td>   0.902</td> \n",
       "</tr>\n",
       "<tr>\n",
       "  <th>Method:</th>             <td>Least Squares</td>  <th>  F-statistic:       </th> <td>2.088e+04</td>\n",
       "</tr>\n",
       "<tr>\n",
       "  <th>Date:</th>             <td>Thu, 09 Jun 2022</td> <th>  Prob (F-statistic):</th>  <td>  0.00</td>  \n",
       "</tr>\n",
       "<tr>\n",
       "  <th>Time:</th>                 <td>16:26:20</td>     <th>  Log-Likelihood:    </th> <td> -78736.</td> \n",
       "</tr>\n",
       "<tr>\n",
       "  <th>No. Observations:</th>      <td> 92563</td>      <th>  AIC:               </th> <td>1.576e+05</td>\n",
       "</tr>\n",
       "<tr>\n",
       "  <th>Df Residuals:</th>          <td> 92521</td>      <th>  BIC:               </th> <td>1.580e+05</td>\n",
       "</tr>\n",
       "<tr>\n",
       "  <th>Df Model:</th>              <td>    41</td>      <th>                     </th>     <td> </td>    \n",
       "</tr>\n",
       "<tr>\n",
       "  <th>Covariance Type:</th>      <td>nonrobust</td>    <th>                     </th>     <td> </td>    \n",
       "</tr>\n",
       "</table>\n",
       "<table class=\"simpletable\">\n",
       "<tr>\n",
       "            <td></td>               <th>coef</th>     <th>std err</th>      <th>t</th>      <th>P>|t|</th>  <th>[0.025</th>    <th>0.975]</th>  \n",
       "</tr>\n",
       "<tr>\n",
       "  <th>Intercept</th>             <td>    4.7090</td> <td>    0.012</td> <td>  377.070</td> <td> 0.000</td> <td>    4.685</td> <td>    4.734</td>\n",
       "</tr>\n",
       "<tr>\n",
       "  <th>C(Month)[T.August]</th>    <td>   -0.1836</td> <td>    0.009</td> <td>  -20.055</td> <td> 0.000</td> <td>   -0.202</td> <td>   -0.166</td>\n",
       "</tr>\n",
       "<tr>\n",
       "  <th>C(Month)[T.December]</th>  <td>    0.2796</td> <td>    0.009</td> <td>   30.541</td> <td> 0.000</td> <td>    0.262</td> <td>    0.298</td>\n",
       "</tr>\n",
       "<tr>\n",
       "  <th>C(Month)[T.February]</th>  <td>    0.0013</td> <td>    0.010</td> <td>    0.139</td> <td> 0.890</td> <td>   -0.017</td> <td>    0.020</td>\n",
       "</tr>\n",
       "<tr>\n",
       "  <th>C(Month)[T.January]</th>   <td>   -0.0337</td> <td>    0.009</td> <td>   -3.598</td> <td> 0.000</td> <td>   -0.052</td> <td>   -0.015</td>\n",
       "</tr>\n",
       "<tr>\n",
       "  <th>C(Month)[T.July]</th>      <td>   -0.1044</td> <td>    0.009</td> <td>  -11.400</td> <td> 0.000</td> <td>   -0.122</td> <td>   -0.086</td>\n",
       "</tr>\n",
       "<tr>\n",
       "  <th>C(Month)[T.June]</th>      <td>   -0.1383</td> <td>    0.009</td> <td>  -14.981</td> <td> 0.000</td> <td>   -0.156</td> <td>   -0.120</td>\n",
       "</tr>\n",
       "<tr>\n",
       "  <th>C(Month)[T.March]</th>     <td>    0.0082</td> <td>    0.009</td> <td>    0.878</td> <td> 0.380</td> <td>   -0.010</td> <td>    0.027</td>\n",
       "</tr>\n",
       "<tr>\n",
       "  <th>C(Month)[T.May]</th>       <td>   -0.1393</td> <td>    0.009</td> <td>  -15.208</td> <td> 0.000</td> <td>   -0.157</td> <td>   -0.121</td>\n",
       "</tr>\n",
       "<tr>\n",
       "  <th>C(Month)[T.November]</th>  <td>    0.0480</td> <td>    0.009</td> <td>    5.201</td> <td> 0.000</td> <td>    0.030</td> <td>    0.066</td>\n",
       "</tr>\n",
       "<tr>\n",
       "  <th>C(Month)[T.October]</th>   <td>   -0.0879</td> <td>    0.009</td> <td>   -9.534</td> <td> 0.000</td> <td>   -0.106</td> <td>   -0.070</td>\n",
       "</tr>\n",
       "<tr>\n",
       "  <th>C(Month)[T.September]</th> <td>   -0.1385</td> <td>    0.009</td> <td>  -14.658</td> <td> 0.000</td> <td>   -0.157</td> <td>   -0.120</td>\n",
       "</tr>\n",
       "<tr>\n",
       "  <th>C(Day)[T.Monday]</th>      <td>   -0.4196</td> <td>    0.007</td> <td>  -60.272</td> <td> 0.000</td> <td>   -0.433</td> <td>   -0.406</td>\n",
       "</tr>\n",
       "<tr>\n",
       "  <th>C(Day)[T.Saturday]</th>    <td>   -0.0079</td> <td>    0.007</td> <td>   -1.136</td> <td> 0.256</td> <td>   -0.022</td> <td>    0.006</td>\n",
       "</tr>\n",
       "<tr>\n",
       "  <th>C(Day)[T.Sunday]</th>      <td>   -0.2160</td> <td>    0.007</td> <td>  -31.024</td> <td> 0.000</td> <td>   -0.230</td> <td>   -0.202</td>\n",
       "</tr>\n",
       "<tr>\n",
       "  <th>C(Day)[T.Thursday]</th>    <td>   -0.2361</td> <td>    0.007</td> <td>  -33.866</td> <td> 0.000</td> <td>   -0.250</td> <td>   -0.222</td>\n",
       "</tr>\n",
       "<tr>\n",
       "  <th>C(Day)[T.Tuesday]</th>     <td>   -0.4256</td> <td>    0.007</td> <td>  -61.102</td> <td> 0.000</td> <td>   -0.439</td> <td>   -0.412</td>\n",
       "</tr>\n",
       "<tr>\n",
       "  <th>C(Day)[T.Wednesday]</th>   <td>   -0.3539</td> <td>    0.007</td> <td>  -50.762</td> <td> 0.000</td> <td>   -0.368</td> <td>   -0.340</td>\n",
       "</tr>\n",
       "<tr>\n",
       "  <th>C(Time)[T.1]</th>          <td>   -0.4888</td> <td>    0.013</td> <td>  -37.887</td> <td> 0.000</td> <td>   -0.514</td> <td>   -0.464</td>\n",
       "</tr>\n",
       "<tr>\n",
       "  <th>C(Time)[T.2]</th>          <td>   -0.9306</td> <td>    0.013</td> <td>  -72.102</td> <td> 0.000</td> <td>   -0.956</td> <td>   -0.905</td>\n",
       "</tr>\n",
       "<tr>\n",
       "  <th>C(Time)[T.3]</th>          <td>   -1.1426</td> <td>    0.013</td> <td>  -88.558</td> <td> 0.000</td> <td>   -1.168</td> <td>   -1.117</td>\n",
       "</tr>\n",
       "<tr>\n",
       "  <th>C(Time)[T.4]</th>          <td>   -1.3148</td> <td>    0.013</td> <td> -101.902</td> <td> 0.000</td> <td>   -1.340</td> <td>   -1.289</td>\n",
       "</tr>\n",
       "<tr>\n",
       "  <th>C(Time)[T.5]</th>          <td>   -1.0567</td> <td>    0.013</td> <td>  -81.902</td> <td> 0.000</td> <td>   -1.082</td> <td>   -1.031</td>\n",
       "</tr>\n",
       "<tr>\n",
       "  <th>C(Time)[T.6]</th>          <td>   -0.0964</td> <td>    0.013</td> <td>   -7.474</td> <td> 0.000</td> <td>   -0.122</td> <td>   -0.071</td>\n",
       "</tr>\n",
       "<tr>\n",
       "  <th>C(Time)[T.7]</th>          <td>    0.8691</td> <td>    0.013</td> <td>   67.358</td> <td> 0.000</td> <td>    0.844</td> <td>    0.894</td>\n",
       "</tr>\n",
       "<tr>\n",
       "  <th>C(Time)[T.8]</th>          <td>    1.7795</td> <td>    0.013</td> <td>  137.920</td> <td> 0.000</td> <td>    1.754</td> <td>    1.805</td>\n",
       "</tr>\n",
       "<tr>\n",
       "  <th>C(Time)[T.9]</th>          <td>    2.2578</td> <td>    0.013</td> <td>  174.989</td> <td> 0.000</td> <td>    2.232</td> <td>    2.283</td>\n",
       "</tr>\n",
       "<tr>\n",
       "  <th>C(Time)[T.10]</th>         <td>    2.7820</td> <td>    0.013</td> <td>  215.617</td> <td> 0.000</td> <td>    2.757</td> <td>    2.807</td>\n",
       "</tr>\n",
       "<tr>\n",
       "  <th>C(Time)[T.11]</th>         <td>    3.1748</td> <td>    0.013</td> <td>  246.062</td> <td> 0.000</td> <td>    3.149</td> <td>    3.200</td>\n",
       "</tr>\n",
       "<tr>\n",
       "  <th>C(Time)[T.12]</th>         <td>    3.6149</td> <td>    0.013</td> <td>  280.173</td> <td> 0.000</td> <td>    3.590</td> <td>    3.640</td>\n",
       "</tr>\n",
       "<tr>\n",
       "  <th>C(Time)[T.13]</th>         <td>    3.7302</td> <td>    0.013</td> <td>  289.112</td> <td> 0.000</td> <td>    3.705</td> <td>    3.756</td>\n",
       "</tr>\n",
       "<tr>\n",
       "  <th>C(Time)[T.14]</th>         <td>    3.5563</td> <td>    0.013</td> <td>  275.628</td> <td> 0.000</td> <td>    3.531</td> <td>    3.582</td>\n",
       "</tr>\n",
       "<tr>\n",
       "  <th>C(Time)[T.15]</th>         <td>    3.5215</td> <td>    0.013</td> <td>  272.936</td> <td> 0.000</td> <td>    3.496</td> <td>    3.547</td>\n",
       "</tr>\n",
       "<tr>\n",
       "  <th>C(Time)[T.16]</th>         <td>    3.4712</td> <td>    0.013</td> <td>  269.039</td> <td> 0.000</td> <td>    3.446</td> <td>    3.497</td>\n",
       "</tr>\n",
       "<tr>\n",
       "  <th>C(Time)[T.17]</th>         <td>    3.3599</td> <td>    0.013</td> <td>  260.412</td> <td> 0.000</td> <td>    3.335</td> <td>    3.385</td>\n",
       "</tr>\n",
       "<tr>\n",
       "  <th>C(Time)[T.18]</th>         <td>    2.8773</td> <td>    0.013</td> <td>  223.003</td> <td> 0.000</td> <td>    2.852</td> <td>    2.903</td>\n",
       "</tr>\n",
       "<tr>\n",
       "  <th>C(Time)[T.19]</th>         <td>    2.2718</td> <td>    0.013</td> <td>  176.076</td> <td> 0.000</td> <td>    2.247</td> <td>    2.297</td>\n",
       "</tr>\n",
       "<tr>\n",
       "  <th>C(Time)[T.20]</th>         <td>    1.8705</td> <td>    0.013</td> <td>  144.972</td> <td> 0.000</td> <td>    1.845</td> <td>    1.896</td>\n",
       "</tr>\n",
       "<tr>\n",
       "  <th>C(Time)[T.21]</th>         <td>    1.4740</td> <td>    0.013</td> <td>  114.242</td> <td> 0.000</td> <td>    1.449</td> <td>    1.499</td>\n",
       "</tr>\n",
       "<tr>\n",
       "  <th>C(Time)[T.22]</th>         <td>    1.0926</td> <td>    0.013</td> <td>   84.686</td> <td> 0.000</td> <td>    1.067</td> <td>    1.118</td>\n",
       "</tr>\n",
       "<tr>\n",
       "  <th>C(Time)[T.23]</th>         <td>    0.6039</td> <td>    0.013</td> <td>   46.806</td> <td> 0.000</td> <td>    0.579</td> <td>    0.629</td>\n",
       "</tr>\n",
       "<tr>\n",
       "  <th>Trend</th>                 <td>-1.306e-06</td> <td> 6.99e-08</td> <td>  -18.693</td> <td> 0.000</td> <td>-1.44e-06</td> <td>-1.17e-06</td>\n",
       "</tr>\n",
       "</table>\n",
       "<table class=\"simpletable\">\n",
       "<tr>\n",
       "  <th>Omnibus:</th>       <td>15501.917</td> <th>  Durbin-Watson:     </th>  <td>   0.576</td> \n",
       "</tr>\n",
       "<tr>\n",
       "  <th>Prob(Omnibus):</th>  <td> 0.000</td>   <th>  Jarque-Bera (JB):  </th> <td>165405.822</td>\n",
       "</tr>\n",
       "<tr>\n",
       "  <th>Skew:</th>           <td>-0.484</td>   <th>  Prob(JB):          </th>  <td>    0.00</td> \n",
       "</tr>\n",
       "<tr>\n",
       "  <th>Kurtosis:</th>       <td> 9.477</td>   <th>  Cond. No.          </th>  <td>1.31e+06</td> \n",
       "</tr>\n",
       "</table><br/><br/>Notes:<br/>[1] Standard Errors assume that the covariance matrix of the errors is correctly specified.<br/>[2] The condition number is large, 1.31e+06. This might indicate that there are<br/>strong multicollinearity or other numerical problems."
      ],
      "text/plain": [
       "<class 'statsmodels.iolib.summary.Summary'>\n",
       "\"\"\"\n",
       "                            OLS Regression Results                            \n",
       "==============================================================================\n",
       "Dep. Variable:                 LogPed   R-squared:                       0.902\n",
       "Model:                            OLS   Adj. R-squared:                  0.902\n",
       "Method:                 Least Squares   F-statistic:                 2.088e+04\n",
       "Date:                Thu, 09 Jun 2022   Prob (F-statistic):               0.00\n",
       "Time:                        16:26:20   Log-Likelihood:                -78736.\n",
       "No. Observations:               92563   AIC:                         1.576e+05\n",
       "Df Residuals:                   92521   BIC:                         1.580e+05\n",
       "Df Model:                          41                                         \n",
       "Covariance Type:            nonrobust                                         \n",
       "=========================================================================================\n",
       "                            coef    std err          t      P>|t|      [0.025      0.975]\n",
       "-----------------------------------------------------------------------------------------\n",
       "Intercept                 4.7090      0.012    377.070      0.000       4.685       4.734\n",
       "C(Month)[T.August]       -0.1836      0.009    -20.055      0.000      -0.202      -0.166\n",
       "C(Month)[T.December]      0.2796      0.009     30.541      0.000       0.262       0.298\n",
       "C(Month)[T.February]      0.0013      0.010      0.139      0.890      -0.017       0.020\n",
       "C(Month)[T.January]      -0.0337      0.009     -3.598      0.000      -0.052      -0.015\n",
       "C(Month)[T.July]         -0.1044      0.009    -11.400      0.000      -0.122      -0.086\n",
       "C(Month)[T.June]         -0.1383      0.009    -14.981      0.000      -0.156      -0.120\n",
       "C(Month)[T.March]         0.0082      0.009      0.878      0.380      -0.010       0.027\n",
       "C(Month)[T.May]          -0.1393      0.009    -15.208      0.000      -0.157      -0.121\n",
       "C(Month)[T.November]      0.0480      0.009      5.201      0.000       0.030       0.066\n",
       "C(Month)[T.October]      -0.0879      0.009     -9.534      0.000      -0.106      -0.070\n",
       "C(Month)[T.September]    -0.1385      0.009    -14.658      0.000      -0.157      -0.120\n",
       "C(Day)[T.Monday]         -0.4196      0.007    -60.272      0.000      -0.433      -0.406\n",
       "C(Day)[T.Saturday]       -0.0079      0.007     -1.136      0.256      -0.022       0.006\n",
       "C(Day)[T.Sunday]         -0.2160      0.007    -31.024      0.000      -0.230      -0.202\n",
       "C(Day)[T.Thursday]       -0.2361      0.007    -33.866      0.000      -0.250      -0.222\n",
       "C(Day)[T.Tuesday]        -0.4256      0.007    -61.102      0.000      -0.439      -0.412\n",
       "C(Day)[T.Wednesday]      -0.3539      0.007    -50.762      0.000      -0.368      -0.340\n",
       "C(Time)[T.1]             -0.4888      0.013    -37.887      0.000      -0.514      -0.464\n",
       "C(Time)[T.2]             -0.9306      0.013    -72.102      0.000      -0.956      -0.905\n",
       "C(Time)[T.3]             -1.1426      0.013    -88.558      0.000      -1.168      -1.117\n",
       "C(Time)[T.4]             -1.3148      0.013   -101.902      0.000      -1.340      -1.289\n",
       "C(Time)[T.5]             -1.0567      0.013    -81.902      0.000      -1.082      -1.031\n",
       "C(Time)[T.6]             -0.0964      0.013     -7.474      0.000      -0.122      -0.071\n",
       "C(Time)[T.7]              0.8691      0.013     67.358      0.000       0.844       0.894\n",
       "C(Time)[T.8]              1.7795      0.013    137.920      0.000       1.754       1.805\n",
       "C(Time)[T.9]              2.2578      0.013    174.989      0.000       2.232       2.283\n",
       "C(Time)[T.10]             2.7820      0.013    215.617      0.000       2.757       2.807\n",
       "C(Time)[T.11]             3.1748      0.013    246.062      0.000       3.149       3.200\n",
       "C(Time)[T.12]             3.6149      0.013    280.173      0.000       3.590       3.640\n",
       "C(Time)[T.13]             3.7302      0.013    289.112      0.000       3.705       3.756\n",
       "C(Time)[T.14]             3.5563      0.013    275.628      0.000       3.531       3.582\n",
       "C(Time)[T.15]             3.5215      0.013    272.936      0.000       3.496       3.547\n",
       "C(Time)[T.16]             3.4712      0.013    269.039      0.000       3.446       3.497\n",
       "C(Time)[T.17]             3.3599      0.013    260.412      0.000       3.335       3.385\n",
       "C(Time)[T.18]             2.8773      0.013    223.003      0.000       2.852       2.903\n",
       "C(Time)[T.19]             2.2718      0.013    176.076      0.000       2.247       2.297\n",
       "C(Time)[T.20]             1.8705      0.013    144.972      0.000       1.845       1.896\n",
       "C(Time)[T.21]             1.4740      0.013    114.242      0.000       1.449       1.499\n",
       "C(Time)[T.22]             1.0926      0.013     84.686      0.000       1.067       1.118\n",
       "C(Time)[T.23]             0.6039      0.013     46.806      0.000       0.579       0.629\n",
       "Trend                 -1.306e-06   6.99e-08    -18.693      0.000   -1.44e-06   -1.17e-06\n",
       "==============================================================================\n",
       "Omnibus:                    15501.917   Durbin-Watson:                   0.576\n",
       "Prob(Omnibus):                  0.000   Jarque-Bera (JB):           165405.822\n",
       "Skew:                          -0.484   Prob(JB):                         0.00\n",
       "Kurtosis:                       9.477   Cond. No.                     1.31e+06\n",
       "==============================================================================\n",
       "\n",
       "Notes:\n",
       "[1] Standard Errors assume that the covariance matrix of the errors is correctly specified.\n",
       "[2] The condition number is large, 1.31e+06. This might indicate that there are\n",
       "strong multicollinearity or other numerical problems.\n",
       "\"\"\""
      ]
     },
     "execution_count": 12,
     "metadata": {},
     "output_type": "execute_result"
    }
   ],
   "source": [
    "model = sm.ols(formula=\"LogPed ~ Trend + C(Month) + C(Day) + C(Time)\", data=df2_in)\n",
    "results = model.fit()\n",
    "results.summary()"
   ]
  },
  {
   "cell_type": "code",
   "execution_count": 13,
   "metadata": {},
   "outputs": [
    {
     "name": "stderr",
     "output_type": "stream",
     "text": [
      "<ipython-input-13-5c65ec6056f6>:1: SettingWithCopyWarning: \n",
      "A value is trying to be set on a copy of a slice from a DataFrame.\n",
      "Try using .loc[row_indexer,col_indexer] = value instead\n",
      "\n",
      "See the caveats in the documentation: https://pandas.pydata.org/pandas-docs/stable/user_guide/indexing.html#returning-a-view-versus-a-copy\n",
      "  df2['LogPedFC'] = results.predict(df2)\n"
     ]
    }
   ],
   "source": [
    "df2['LogPedFC'] = results.predict(df2)"
   ]
  },
  {
   "cell_type": "code",
   "execution_count": 14,
   "metadata": {},
   "outputs": [
    {
     "data": {
      "text/html": [
       "<div>\n",
       "<style scoped>\n",
       "    .dataframe tbody tr th:only-of-type {\n",
       "        vertical-align: middle;\n",
       "    }\n",
       "\n",
       "    .dataframe tbody tr th {\n",
       "        vertical-align: top;\n",
       "    }\n",
       "\n",
       "    .dataframe thead th {\n",
       "        text-align: right;\n",
       "    }\n",
       "</style>\n",
       "<table border=\"1\" class=\"dataframe\">\n",
       "  <thead>\n",
       "    <tr style=\"text-align: right;\">\n",
       "      <th></th>\n",
       "      <th>Year</th>\n",
       "      <th>Month</th>\n",
       "      <th>Mdate</th>\n",
       "      <th>Day</th>\n",
       "      <th>Time</th>\n",
       "      <th>Hourly_Counts</th>\n",
       "      <th>Trend</th>\n",
       "      <th>LogPed</th>\n",
       "      <th>LogPedFC</th>\n",
       "    </tr>\n",
       "    <tr>\n",
       "      <th>Date_Time</th>\n",
       "      <th></th>\n",
       "      <th></th>\n",
       "      <th></th>\n",
       "      <th></th>\n",
       "      <th></th>\n",
       "      <th></th>\n",
       "      <th></th>\n",
       "      <th></th>\n",
       "      <th></th>\n",
       "    </tr>\n",
       "  </thead>\n",
       "  <tbody>\n",
       "    <tr>\n",
       "      <th>2009-05-01 00:00:00</th>\n",
       "      <td>2009</td>\n",
       "      <td>May</td>\n",
       "      <td>1</td>\n",
       "      <td>Friday</td>\n",
       "      <td>0</td>\n",
       "      <td>52</td>\n",
       "      <td>1</td>\n",
       "      <td>3.970292</td>\n",
       "      <td>4.569758</td>\n",
       "    </tr>\n",
       "    <tr>\n",
       "      <th>2009-05-01 01:00:00</th>\n",
       "      <td>2009</td>\n",
       "      <td>May</td>\n",
       "      <td>1</td>\n",
       "      <td>Friday</td>\n",
       "      <td>1</td>\n",
       "      <td>34</td>\n",
       "      <td>2</td>\n",
       "      <td>3.555348</td>\n",
       "      <td>4.080925</td>\n",
       "    </tr>\n",
       "    <tr>\n",
       "      <th>2009-05-01 02:00:00</th>\n",
       "      <td>2009</td>\n",
       "      <td>May</td>\n",
       "      <td>1</td>\n",
       "      <td>Friday</td>\n",
       "      <td>2</td>\n",
       "      <td>19</td>\n",
       "      <td>3</td>\n",
       "      <td>2.995732</td>\n",
       "      <td>3.639173</td>\n",
       "    </tr>\n",
       "    <tr>\n",
       "      <th>2009-05-01 03:00:00</th>\n",
       "      <td>2009</td>\n",
       "      <td>May</td>\n",
       "      <td>1</td>\n",
       "      <td>Friday</td>\n",
       "      <td>3</td>\n",
       "      <td>14</td>\n",
       "      <td>4</td>\n",
       "      <td>2.708050</td>\n",
       "      <td>3.427148</td>\n",
       "    </tr>\n",
       "    <tr>\n",
       "      <th>2009-05-01 04:00:00</th>\n",
       "      <td>2009</td>\n",
       "      <td>May</td>\n",
       "      <td>1</td>\n",
       "      <td>Friday</td>\n",
       "      <td>4</td>\n",
       "      <td>15</td>\n",
       "      <td>5</td>\n",
       "      <td>2.772589</td>\n",
       "      <td>3.254977</td>\n",
       "    </tr>\n",
       "  </tbody>\n",
       "</table>\n",
       "</div>"
      ],
      "text/plain": [
       "                     Year Month  Mdate     Day  Time  Hourly_Counts  Trend  \\\n",
       "Date_Time                                                                    \n",
       "2009-05-01 00:00:00  2009   May      1  Friday     0             52      1   \n",
       "2009-05-01 01:00:00  2009   May      1  Friday     1             34      2   \n",
       "2009-05-01 02:00:00  2009   May      1  Friday     2             19      3   \n",
       "2009-05-01 03:00:00  2009   May      1  Friday     3             14      4   \n",
       "2009-05-01 04:00:00  2009   May      1  Friday     4             15      5   \n",
       "\n",
       "                       LogPed  LogPedFC  \n",
       "Date_Time                                \n",
       "2009-05-01 00:00:00  3.970292  4.569758  \n",
       "2009-05-01 01:00:00  3.555348  4.080925  \n",
       "2009-05-01 02:00:00  2.995732  3.639173  \n",
       "2009-05-01 03:00:00  2.708050  3.427148  \n",
       "2009-05-01 04:00:00  2.772589  3.254977  "
      ]
     },
     "execution_count": 14,
     "metadata": {},
     "output_type": "execute_result"
    }
   ],
   "source": [
    "df2.head()"
   ]
  },
  {
   "cell_type": "code",
   "execution_count": 15,
   "metadata": {},
   "outputs": [
    {
     "data": {
      "text/plain": [
       "<AxesSubplot:xlabel='Date_Time'>"
      ]
     },
     "execution_count": 15,
     "metadata": {},
     "output_type": "execute_result"
    },
    {
     "data": {
      "image/png": "[encoded data removed]",
      "text/plain": [
       "<Figure size 432x288 with 1 Axes>"
      ]
     },
     "metadata": {
      "needs_background": "light"
     },
     "output_type": "display_data"
    }
   ],
   "source": [
    "dfplot = df2.filter(['LogPed', 'LogPedFC'])\n",
    "sns.lineplot(data=dfplot)"
   ]
  },
  {
   "cell_type": "code",
   "execution_count": 16,
   "metadata": {},
   "outputs": [
    {
     "data": {
      "text/plain": [
       "<AxesSubplot:xlabel='Date_Time'>"
      ]
     },
     "execution_count": 16,
     "metadata": {},
     "output_type": "execute_result"
    },
    {
     "data": {
      "image/png": "[encoded data removed]",
      "text/plain": [
       "<Figure size 432x288 with 1 Axes>"
      ]
     },
     "metadata": {
      "needs_background": "light"
     },
     "output_type": "display_data"
    }
   ],
   "source": [
    "dfplot = df2.filter(['LogPed', 'LogPedFC'])[(df2.index >= '2019-12-25') & (df2.index <= '2020-01-01')]\n",
    "sns.lineplot(data=dfplot)"
   ]
  },
  {
   "cell_type": "code",
   "execution_count": 17,
   "metadata": {},
   "outputs": [],
   "source": [
    "df3 = df2[df2.index < '2020-01-01']"
   ]
  },
  {
   "cell_type": "code",
   "execution_count": 18,
   "metadata": {},
   "outputs": [],
   "source": [
    "insample_err = df3.LogPed - df3.LogPedFC"
   ]
  },
  {
   "cell_type": "code",
   "execution_count": 19,
   "metadata": {},
   "outputs": [
    {
     "data": {
      "text/plain": [
       "Date_Time\n",
       "2009-05-01 00:00:00   -0.599466\n",
       "2009-05-01 01:00:00   -0.525577\n",
       "2009-05-01 02:00:00   -0.643441\n",
       "2009-05-01 03:00:00   -0.719098\n",
       "2009-05-01 04:00:00   -0.482388\n",
       "                         ...   \n",
       "2019-12-31 19:00:00    0.501944\n",
       "2019-12-31 20:00:00    0.677537\n",
       "2019-12-31 21:00:00    0.724958\n",
       "2019-12-31 22:00:00    1.313122\n",
       "2019-12-31 23:00:00    1.110838\n",
       "Length: 92563, dtype: float64"
      ]
     },
     "execution_count": 19,
     "metadata": {},
     "output_type": "execute_result"
    }
   ],
   "source": [
    "insample_err"
   ]
  },
  {
   "cell_type": "code",
   "execution_count": 20,
   "metadata": {},
   "outputs": [
    {
     "data": {
      "text/html": [
       "<div>\n",
       "<style scoped>\n",
       "    .dataframe tbody tr th:only-of-type {\n",
       "        vertical-align: middle;\n",
       "    }\n",
       "\n",
       "    .dataframe tbody tr th {\n",
       "        vertical-align: top;\n",
       "    }\n",
       "\n",
       "    .dataframe thead th {\n",
       "        text-align: right;\n",
       "    }\n",
       "</style>\n",
       "<table border=\"1\" class=\"dataframe\">\n",
       "  <thead>\n",
       "    <tr style=\"text-align: right;\">\n",
       "      <th></th>\n",
       "      <th>Year</th>\n",
       "      <th>Month</th>\n",
       "      <th>Mdate</th>\n",
       "      <th>Day</th>\n",
       "      <th>Time</th>\n",
       "      <th>Hourly_Counts</th>\n",
       "      <th>Trend</th>\n",
       "      <th>LogPed</th>\n",
       "      <th>LogPedFC</th>\n",
       "    </tr>\n",
       "    <tr>\n",
       "      <th>Date_Time</th>\n",
       "      <th></th>\n",
       "      <th></th>\n",
       "      <th></th>\n",
       "      <th></th>\n",
       "      <th></th>\n",
       "      <th></th>\n",
       "      <th></th>\n",
       "      <th></th>\n",
       "      <th></th>\n",
       "    </tr>\n",
       "  </thead>\n",
       "  <tbody>\n",
       "    <tr>\n",
       "      <th>2022-01-01</th>\n",
       "      <td>2022</td>\n",
       "      <td>January</td>\n",
       "      <td>1</td>\n",
       "      <td>Saturday</td>\n",
       "      <td>0</td>\n",
       "      <td>286</td>\n",
       "      <td>110108</td>\n",
       "      <td>5.659482</td>\n",
       "      <td>4.523659</td>\n",
       "    </tr>\n",
       "  </tbody>\n",
       "</table>\n",
       "</div>"
      ],
      "text/plain": [
       "            Year    Month  Mdate       Day  Time  Hourly_Counts   Trend  \\\n",
       "Date_Time                                                                 \n",
       "2022-01-01  2022  January      1  Saturday     0            286  110108   \n",
       "\n",
       "              LogPed  LogPedFC  \n",
       "Date_Time                       \n",
       "2022-01-01  5.659482  4.523659  "
      ]
     },
     "execution_count": 20,
     "metadata": {},
     "output_type": "execute_result"
    }
   ],
   "source": [
    "df2[df2.index == '2022-01-01']"
   ]
  },
  {
   "cell_type": "code",
   "execution_count": 21,
   "metadata": {},
   "outputs": [],
   "source": [
    "errsmpl = np.random.choice(insample_err, 10000)"
   ]
  },
  {
   "cell_type": "code",
   "execution_count": 22,
   "metadata": {},
   "outputs": [
    {
     "data": {
      "text/plain": [
       "10000"
      ]
     },
     "execution_count": 22,
     "metadata": {},
     "output_type": "execute_result"
    }
   ],
   "source": [
    "len(errsmpl)"
   ]
  },
  {
   "cell_type": "code",
   "execution_count": 23,
   "metadata": {},
   "outputs": [
    {
     "data": {
      "text/plain": [
       "(array([1.000e+00, 0.000e+00, 0.000e+00, 2.000e+00, 3.000e+00, 1.000e+00,\n",
       "        9.000e+00, 4.000e+00, 5.000e+00, 1.300e+01, 1.300e+01, 2.800e+01,\n",
       "        7.600e+01, 1.840e+02, 4.890e+02, 8.550e+02, 1.820e+03, 3.184e+03,\n",
       "        1.815e+03, 8.250e+02, 3.310e+02, 1.700e+02, 1.090e+02, 4.200e+01,\n",
       "        1.300e+01, 4.000e+00, 2.000e+00, 0.000e+00, 0.000e+00, 2.000e+00]),\n",
       " array([-5.31978221, -5.01488018, -4.70997816, -4.40507614, -4.10017412,\n",
       "        -3.7952721 , -3.49037008, -3.18546806, -2.88056604, -2.57566401,\n",
       "        -2.27076199, -1.96585997, -1.66095795, -1.35605593, -1.05115391,\n",
       "        -0.74625189, -0.44134987, -0.13644785,  0.16845418,  0.4733562 ,\n",
       "         0.77825822,  1.08316024,  1.38806226,  1.69296428,  1.9978663 ,\n",
       "         2.30276832,  2.60767035,  2.91257237,  3.21747439,  3.52237641,\n",
       "         3.82727843]),\n",
       " <BarContainer object of 30 artists>)"
      ]
     },
     "execution_count": 23,
     "metadata": {},
     "output_type": "execute_result"
    },
    {
     "data": {
      "image/png": "[encoded data removed]",
      "text/plain": [
       "<Figure size 432x288 with 1 Axes>"
      ]
     },
     "metadata": {
      "needs_background": "light"
     },
     "output_type": "display_data"
    }
   ],
   "source": [
    "import matplotlib.pyplot as plt\n",
    "plt.hist(errsmpl, bins = 30)"
   ]
  },
  {
   "cell_type": "code",
   "execution_count": 24,
   "metadata": {},
   "outputs": [
    {
     "data": {
      "text/plain": [
       "(array([1.0000e+00, 1.0000e+00, 0.0000e+00, 2.0000e+00, 1.0000e+00,\n",
       "        7.0000e+00, 1.1000e+01, 1.0000e+01, 2.3000e+01, 2.4000e+01,\n",
       "        5.3000e+01, 5.7000e+01, 9.3000e+01, 1.5700e+02, 5.3900e+02,\n",
       "        2.0710e+03, 5.9260e+03, 1.4690e+04, 3.6104e+04, 2.2066e+04,\n",
       "        6.8270e+03, 2.4150e+03, 1.0130e+03, 3.3300e+02, 7.9000e+01,\n",
       "        3.1000e+01, 1.4000e+01, 6.0000e+00, 7.0000e+00, 2.0000e+00]),\n",
       " array([-7.52618875, -7.12220239, -6.71821603, -6.31422968, -5.91024332,\n",
       "        -5.50625696, -5.1022706 , -4.69828424, -4.29429788, -3.89031152,\n",
       "        -3.48632516, -3.0823388 , -2.67835245, -2.27436609, -1.87037973,\n",
       "        -1.46639337, -1.06240701, -0.65842065, -0.25443429,  0.14955207,\n",
       "         0.55353843,  0.95752478,  1.36151114,  1.7654975 ,  2.16948386,\n",
       "         2.57347022,  2.97745658,  3.38144294,  3.7854293 ,  4.18941566,\n",
       "         4.59340201]),\n",
       " <BarContainer object of 30 artists>)"
      ]
     },
     "execution_count": 24,
     "metadata": {},
     "output_type": "execute_result"
    },
    {
     "data": {
      "image/png": "[encoded data removed]",
      "text/plain": [
       "<Figure size 432x288 with 1 Axes>"
      ]
     },
     "metadata": {
      "needs_background": "light"
     },
     "output_type": "display_data"
    }
   ],
   "source": [
    "plt.hist(insample_err, bins = 30)"
   ]
  },
  {
   "cell_type": "code",
   "execution_count": 25,
   "metadata": {},
   "outputs": [],
   "source": [
    "fc_distrib = df2[df2.index == '2022-01-01'].LogPedFC.values + errsmpl"
   ]
  },
  {
   "cell_type": "code",
   "execution_count": 26,
   "metadata": {},
   "outputs": [
    {
     "data": {
      "text/plain": [
       "(array([1.000e+00, 0.000e+00, 0.000e+00, 2.000e+00, 3.000e+00, 1.000e+00,\n",
       "        9.000e+00, 4.000e+00, 5.000e+00, 1.300e+01, 1.300e+01, 2.800e+01,\n",
       "        7.600e+01, 1.840e+02, 4.890e+02, 8.550e+02, 1.820e+03, 3.184e+03,\n",
       "        1.815e+03, 8.250e+02, 3.310e+02, 1.700e+02, 1.090e+02, 4.200e+01,\n",
       "        1.300e+01, 4.000e+00, 2.000e+00, 0.000e+00, 0.000e+00, 2.000e+00]),\n",
       " array([-0.79612293, -0.49122091, -0.18631889,  0.11858313,  0.42348515,\n",
       "         0.72838717,  1.03328919,  1.33819122,  1.64309324,  1.94799526,\n",
       "         2.25289728,  2.5577993 ,  2.86270132,  3.16760334,  3.47250536,\n",
       "         3.77740739,  4.08230941,  4.38721143,  4.69211345,  4.99701547,\n",
       "         5.30191749,  5.60681951,  5.91172153,  6.21662355,  6.52152558,\n",
       "         6.8264276 ,  7.13132962,  7.43623164,  7.74113366,  8.04603568,\n",
       "         8.3509377 ]),\n",
       " <BarContainer object of 30 artists>)"
      ]
     },
     "execution_count": 26,
     "metadata": {},
     "output_type": "execute_result"
    },
    {
     "data": {
      "image/png": "[encoded data removed]",
      "text/plain": [
       "<Figure size 432x288 with 1 Axes>"
      ]
     },
     "metadata": {
      "needs_background": "light"
     },
     "output_type": "display_data"
    }
   ],
   "source": [
    "plt.hist(fc_distrib, bins = 30)"
   ]
  },
  {
   "cell_type": "code",
   "execution_count": 27,
   "metadata": {},
   "outputs": [
    {
     "data": {
      "text/plain": [
       "-0.7961229324986219"
      ]
     },
     "execution_count": 27,
     "metadata": {},
     "output_type": "execute_result"
    }
   ],
   "source": [
    "np.min(fc_distrib)"
   ]
  },
  {
   "cell_type": "code",
   "execution_count": 28,
   "metadata": {},
   "outputs": [
    {
     "data": {
      "text/plain": [
       "0.4510744242884521"
      ]
     },
     "execution_count": 28,
     "metadata": {},
     "output_type": "execute_result"
    }
   ],
   "source": [
    "np.exp(np.min(fc_distrib))"
   ]
  },
  {
   "cell_type": "code",
   "execution_count": 29,
   "metadata": {},
   "outputs": [
    {
     "data": {
      "text/plain": [
       "(array([4.570e+02, 2.110e+03, 3.844e+03, 1.919e+03, 7.400e+02, 3.370e+02,\n",
       "        1.630e+02, 1.100e+02, 7.300e+01, 5.100e+01, 4.800e+01, 3.800e+01,\n",
       "        2.000e+01, 2.400e+01, 1.100e+01, 1.100e+01, 9.000e+00, 5.000e+00,\n",
       "        6.000e+00, 6.000e+00, 4.000e+00, 1.000e+00, 3.000e+00, 0.000e+00,\n",
       "        1.000e+00, 0.000e+00, 3.000e+00, 0.000e+00, 0.000e+00, 0.000e+00,\n",
       "        0.000e+00, 2.000e+00, 0.000e+00, 0.000e+00, 0.000e+00, 0.000e+00,\n",
       "        0.000e+00, 0.000e+00, 1.000e+00, 1.000e+00, 0.000e+00, 0.000e+00,\n",
       "        0.000e+00, 0.000e+00, 0.000e+00, 0.000e+00, 0.000e+00, 0.000e+00,\n",
       "        0.000e+00, 0.000e+00, 0.000e+00, 0.000e+00, 0.000e+00, 0.000e+00,\n",
       "        0.000e+00, 0.000e+00, 0.000e+00, 0.000e+00, 0.000e+00, 0.000e+00,\n",
       "        0.000e+00, 0.000e+00, 0.000e+00, 0.000e+00, 0.000e+00, 0.000e+00,\n",
       "        0.000e+00, 0.000e+00, 0.000e+00, 0.000e+00, 0.000e+00, 0.000e+00,\n",
       "        0.000e+00, 0.000e+00, 0.000e+00, 0.000e+00, 0.000e+00, 0.000e+00,\n",
       "        0.000e+00, 0.000e+00, 0.000e+00, 0.000e+00, 0.000e+00, 0.000e+00,\n",
       "        0.000e+00, 0.000e+00, 0.000e+00, 0.000e+00, 0.000e+00, 0.000e+00,\n",
       "        0.000e+00, 0.000e+00, 0.000e+00, 0.000e+00, 0.000e+00, 0.000e+00,\n",
       "        0.000e+00, 0.000e+00, 0.000e+00, 0.000e+00, 0.000e+00, 0.000e+00,\n",
       "        0.000e+00, 0.000e+00, 0.000e+00, 0.000e+00, 0.000e+00, 0.000e+00,\n",
       "        0.000e+00, 0.000e+00, 0.000e+00, 0.000e+00, 0.000e+00, 0.000e+00,\n",
       "        0.000e+00, 0.000e+00, 0.000e+00, 1.000e+00, 0.000e+00, 1.000e+00]),\n",
       " array([4.51074424e-01, 3.57318926e+01, 7.10127108e+01, 1.06293529e+02,\n",
       "        1.41574347e+02, 1.76855165e+02, 2.12135984e+02, 2.47416802e+02,\n",
       "        2.82697620e+02, 3.17978438e+02, 3.53259256e+02, 3.88540074e+02,\n",
       "        4.23820893e+02, 4.59101711e+02, 4.94382529e+02, 5.29663347e+02,\n",
       "        5.64944165e+02, 6.00224983e+02, 6.35505802e+02, 6.70786620e+02,\n",
       "        7.06067438e+02, 7.41348256e+02, 7.76629074e+02, 8.11909893e+02,\n",
       "        8.47190711e+02, 8.82471529e+02, 9.17752347e+02, 9.53033165e+02,\n",
       "        9.88313983e+02, 1.02359480e+03, 1.05887562e+03, 1.09415644e+03,\n",
       "        1.12943726e+03, 1.16471807e+03, 1.19999889e+03, 1.23527971e+03,\n",
       "        1.27056053e+03, 1.30584135e+03, 1.34112217e+03, 1.37640298e+03,\n",
       "        1.41168380e+03, 1.44696462e+03, 1.48224544e+03, 1.51752626e+03,\n",
       "        1.55280707e+03, 1.58808789e+03, 1.62336871e+03, 1.65864953e+03,\n",
       "        1.69393035e+03, 1.72921117e+03, 1.76449198e+03, 1.79977280e+03,\n",
       "        1.83505362e+03, 1.87033444e+03, 1.90561526e+03, 1.94089607e+03,\n",
       "        1.97617689e+03, 2.01145771e+03, 2.04673853e+03, 2.08201935e+03,\n",
       "        2.11730017e+03, 2.15258098e+03, 2.18786180e+03, 2.22314262e+03,\n",
       "        2.25842344e+03, 2.29370426e+03, 2.32898507e+03, 2.36426589e+03,\n",
       "        2.39954671e+03, 2.43482753e+03, 2.47010835e+03, 2.50538917e+03,\n",
       "        2.54066998e+03, 2.57595080e+03, 2.61123162e+03, 2.64651244e+03,\n",
       "        2.68179326e+03, 2.71707407e+03, 2.75235489e+03, 2.78763571e+03,\n",
       "        2.82291653e+03, 2.85819735e+03, 2.89347817e+03, 2.92875898e+03,\n",
       "        2.96403980e+03, 2.99932062e+03, 3.03460144e+03, 3.06988226e+03,\n",
       "        3.10516307e+03, 3.14044389e+03, 3.17572471e+03, 3.21100553e+03,\n",
       "        3.24628635e+03, 3.28156717e+03, 3.31684798e+03, 3.35212880e+03,\n",
       "        3.38740962e+03, 3.42269044e+03, 3.45797126e+03, 3.49325207e+03,\n",
       "        3.52853289e+03, 3.56381371e+03, 3.59909453e+03, 3.63437535e+03,\n",
       "        3.66965617e+03, 3.70493698e+03, 3.74021780e+03, 3.77549862e+03,\n",
       "        3.81077944e+03, 3.84606026e+03, 3.88134107e+03, 3.91662189e+03,\n",
       "        3.95190271e+03, 3.98718353e+03, 4.02246435e+03, 4.05774517e+03,\n",
       "        4.09302598e+03, 4.12830680e+03, 4.16358762e+03, 4.19886844e+03,\n",
       "        4.23414926e+03]),\n",
       " <BarContainer object of 120 artists>)"
      ]
     },
     "execution_count": 29,
     "metadata": {},
     "output_type": "execute_result"
    },
    {
     "data": {
      "image/png": "[encoded data removed]",
      "text/plain": [
       "<Figure size 432x288 with 1 Axes>"
      ]
     },
     "metadata": {
      "needs_background": "light"
     },
     "output_type": "display_data"
    }
   ],
   "source": [
    "plt.hist(np.exp(fc_distrib), bins = 120)"
   ]
  },
  {
   "cell_type": "code",
   "execution_count": 30,
   "metadata": {},
   "outputs": [
    {
     "data": {
      "text/plain": [
       "0.0"
      ]
     },
     "execution_count": 30,
     "metadata": {},
     "output_type": "execute_result"
    }
   ],
   "source": [
    "np.sum(np.abs(errsmpl) >= 532) / len(errsmpl)"
   ]
  },
  {
   "cell_type": "code",
   "execution_count": 31,
   "metadata": {},
   "outputs": [
    {
     "data": {
      "text/html": [
       "<div>\n",
       "<style scoped>\n",
       "    .dataframe tbody tr th:only-of-type {\n",
       "        vertical-align: middle;\n",
       "    }\n",
       "\n",
       "    .dataframe tbody tr th {\n",
       "        vertical-align: top;\n",
       "    }\n",
       "\n",
       "    .dataframe thead th {\n",
       "        text-align: right;\n",
       "    }\n",
       "</style>\n",
       "<table border=\"1\" class=\"dataframe\">\n",
       "  <thead>\n",
       "    <tr style=\"text-align: right;\">\n",
       "      <th></th>\n",
       "      <th>Year</th>\n",
       "      <th>Month</th>\n",
       "      <th>Mdate</th>\n",
       "      <th>Day</th>\n",
       "      <th>Time</th>\n",
       "      <th>Hourly_Counts</th>\n",
       "      <th>Trend</th>\n",
       "      <th>LogPed</th>\n",
       "      <th>LogPedFC</th>\n",
       "    </tr>\n",
       "    <tr>\n",
       "      <th>Date_Time</th>\n",
       "      <th></th>\n",
       "      <th></th>\n",
       "      <th></th>\n",
       "      <th></th>\n",
       "      <th></th>\n",
       "      <th></th>\n",
       "      <th></th>\n",
       "      <th></th>\n",
       "      <th></th>\n",
       "    </tr>\n",
       "  </thead>\n",
       "  <tbody>\n",
       "    <tr>\n",
       "      <th>2009-05-01 00:00:00</th>\n",
       "      <td>2009</td>\n",
       "      <td>May</td>\n",
       "      <td>1</td>\n",
       "      <td>Friday</td>\n",
       "      <td>0</td>\n",
       "      <td>52</td>\n",
       "      <td>1</td>\n",
       "      <td>3.970292</td>\n",
       "      <td>4.569758</td>\n",
       "    </tr>\n",
       "    <tr>\n",
       "      <th>2009-05-01 01:00:00</th>\n",
       "      <td>2009</td>\n",
       "      <td>May</td>\n",
       "      <td>1</td>\n",
       "      <td>Friday</td>\n",
       "      <td>1</td>\n",
       "      <td>34</td>\n",
       "      <td>2</td>\n",
       "      <td>3.555348</td>\n",
       "      <td>4.080925</td>\n",
       "    </tr>\n",
       "    <tr>\n",
       "      <th>2009-05-01 02:00:00</th>\n",
       "      <td>2009</td>\n",
       "      <td>May</td>\n",
       "      <td>1</td>\n",
       "      <td>Friday</td>\n",
       "      <td>2</td>\n",
       "      <td>19</td>\n",
       "      <td>3</td>\n",
       "      <td>2.995732</td>\n",
       "      <td>3.639173</td>\n",
       "    </tr>\n",
       "    <tr>\n",
       "      <th>2009-05-01 03:00:00</th>\n",
       "      <td>2009</td>\n",
       "      <td>May</td>\n",
       "      <td>1</td>\n",
       "      <td>Friday</td>\n",
       "      <td>3</td>\n",
       "      <td>14</td>\n",
       "      <td>4</td>\n",
       "      <td>2.708050</td>\n",
       "      <td>3.427148</td>\n",
       "    </tr>\n",
       "    <tr>\n",
       "      <th>2009-05-01 04:00:00</th>\n",
       "      <td>2009</td>\n",
       "      <td>May</td>\n",
       "      <td>1</td>\n",
       "      <td>Friday</td>\n",
       "      <td>4</td>\n",
       "      <td>15</td>\n",
       "      <td>5</td>\n",
       "      <td>2.772589</td>\n",
       "      <td>3.254977</td>\n",
       "    </tr>\n",
       "  </tbody>\n",
       "</table>\n",
       "</div>"
      ],
      "text/plain": [
       "                     Year Month  Mdate     Day  Time  Hourly_Counts  Trend  \\\n",
       "Date_Time                                                                    \n",
       "2009-05-01 00:00:00  2009   May      1  Friday     0             52      1   \n",
       "2009-05-01 01:00:00  2009   May      1  Friday     1             34      2   \n",
       "2009-05-01 02:00:00  2009   May      1  Friday     2             19      3   \n",
       "2009-05-01 03:00:00  2009   May      1  Friday     3             14      4   \n",
       "2009-05-01 04:00:00  2009   May      1  Friday     4             15      5   \n",
       "\n",
       "                       LogPed  LogPedFC  \n",
       "Date_Time                                \n",
       "2009-05-01 00:00:00  3.970292  4.569758  \n",
       "2009-05-01 01:00:00  3.555348  4.080925  \n",
       "2009-05-01 02:00:00  2.995732  3.639173  \n",
       "2009-05-01 03:00:00  2.708050  3.427148  \n",
       "2009-05-01 04:00:00  2.772589  3.254977  "
      ]
     },
     "execution_count": 31,
     "metadata": {},
     "output_type": "execute_result"
    }
   ],
   "source": [
    "df2.head()"
   ]
  },
  {
   "cell_type": "code",
   "execution_count": null,
   "metadata": {},
   "outputs": [],
   "source": []
  },
  {
   "cell_type": "code",
   "execution_count": null,
   "metadata": {},
   "outputs": [],
   "source": []
  }
 ],
 "metadata": {
  "interpreter": {
   "hash": "5d65e051e042a96cd35438c97cce1bfb1e1e9b7ade94ca81c6972dd0db044ef1"
  },
  "kernelspec": {
   "display_name": "Python 3.8.8 ('base')",
   "language": "python",
   "name": "python3"
  },
  "language_info": {
   "codemirror_mode": {
    "name": "ipython",
    "version": 3
   },
   "file_extension": ".py",
   "mimetype": "text/x-python",
   "name": "python",
   "nbconvert_exporter": "python",
   "pygments_lexer": "ipython3",
   "version": "3.8.8"
  },
  "orig_nbformat": 4
 },
 "nbformat": 4,
 "nbformat_minor": 2
}
